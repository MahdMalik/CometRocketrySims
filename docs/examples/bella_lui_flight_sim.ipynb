{
 "cells": [
  {
   "cell_type": "markdown",
   "metadata": {},
   "source": [
    "# Bella Lui - EPFL - 2020\n",
    "\n",
    "Bella Lui Kaltbrunn Mission from ERT (EPFL Rocket Team)\n",
    "Permission to use flight data given by Antoine Scardigli, 2020\n"
   ]
  },
  {
   "cell_type": "code",
   "execution_count": null,
   "metadata": {},
   "outputs": [],
   "source": [
    "%load_ext autoreload\n",
    "%autoreload 2"
   ]
  },
  {
   "cell_type": "code",
   "execution_count": null,
   "metadata": {},
   "outputs": [],
   "source": [
    "# Importing libraries\n",
    "import matplotlib.pyplot as plt\n",
    "import numpy as np\n",
    "from scipy.signal import savgol_filter\n",
    "\n",
    "from rocketpy import Environment, Flight, Function, Rocket, SolidMotor"
   ]
  },
  {
   "cell_type": "code",
   "execution_count": null,
   "metadata": {},
   "outputs": [],
   "source": [
    "plt.style.use(\"seaborn-v0_8-dark-palette\")"
   ]
  },
  {
   "cell_type": "markdown",
   "metadata": {},
   "source": [
    "## RocketPy Simulation\n"
   ]
  },
  {
   "cell_type": "markdown",
   "metadata": {},
   "source": [
    "Define a dictionary with the inputs for the simulation\n"
   ]
  },
  {
   "cell_type": "code",
   "execution_count": null,
   "metadata": {},
   "outputs": [],
   "source": [
    "parameters = {\n",
    "    # Mass Details\n",
    "    \"rocket_mass\": (18.227 - 0.001, 0.010),  # propellant mass = 1.373\n",
    "    # propulsion details\n",
    "    \"impulse\": (2157, 0.03 * 2157),\n",
    "    \"burn_time\": (2.43, 0.1),\n",
    "    \"nozzle_radius\": (44.45 / 1000, 0.001),\n",
    "    \"throat_radius\": (21.4376 / 1000, 0.001),\n",
    "    \"grain_separation\": (3 / 1000, 1 / 1000),\n",
    "    \"grain_density\": (782.4, 30),\n",
    "    \"grain_outer_radius\": (85.598 / 2000, 0.001),\n",
    "    \"grain_initial_inner_radius\": (33.147 / 1000, 0.002),\n",
    "    \"grain_initial_height\": (152.4 / 1000, 0.001),\n",
    "    # Aerodynamic Details\n",
    "    \"inertia_i\": (0.78267, 0.03 * 0.78267),\n",
    "    \"inertia_z\": (0.064244, 0.03 * 0.064244),\n",
    "    \"radius\": (156 / 2000, 0.001),\n",
    "    \"distance_rocket_nozzle\": (-1.1356, 0.100),\n",
    "    \"distance_rocket_propellant\": (-1, 0.100),\n",
    "    \"power_off_drag\": (1, 0.05),\n",
    "    \"power_on_drag\": (1, 0.05),\n",
    "    \"nose_length\": (0.242, 0.001),\n",
    "    \"nose_distance_to_cm\": (1.3, 0.100),\n",
    "    \"fin_span\": (0.200, 0.001),\n",
    "    \"fin_root_chord\": (0.280, 0.001),\n",
    "    \"fin_tip_chord\": (0.125, 0.001),\n",
    "    \"fin_distance_to_cm\": (-0.75, 0.100),\n",
    "    \"tail_top_radius\": (156 / 2000, 0.001),\n",
    "    \"tail_bottom_radius\": (135 / 2000, 0.001),\n",
    "    \"tail_length\": (0.050, 0.001),\n",
    "    \"tail_distance_to_cm\": (-1.0856, 0.001),\n",
    "    # Launch and Environment Details\n",
    "    \"wind_direction\": (0, 5),\n",
    "    \"wind_speed\": (1, 0.05),\n",
    "    \"inclination\": (89, 1),\n",
    "    \"heading\": (45, 5),\n",
    "    \"rail_length\": (4.2, 0.001),\n",
    "    # Parachute Details\n",
    "    \"CdS_drogue\": (np.pi / 4, 0.20 * np.pi / 4),\n",
    "    \"lag_rec\": (1, 0.020),\n",
    "}"
   ]
  },
  {
   "cell_type": "markdown",
   "metadata": {},
   "source": [
    "### Environment\n"
   ]
  },
  {
   "cell_type": "markdown",
   "metadata": {},
   "source": [
    "Define the `Environment` object\n"
   ]
  },
  {
   "cell_type": "code",
   "execution_count": null,
   "metadata": {},
   "outputs": [],
   "source": [
    "# Environment conditions\n",
    "env = Environment(\n",
    "    gravity=9.81,\n",
    "    latitude=47.213476,\n",
    "    longitude=9.003336,\n",
    "    date=(2020, 2, 22, 13),\n",
    "    elevation=407,\n",
    ")\n",
    "\n",
    "env.set_atmospheric_model(\n",
    "    type=\"Reanalysis\",\n",
    "    file=\"../../tests/fixtures/acceptance/EPFL_Bella_Lui/bella_lui_weather_data_ERA5.nc\",\n",
    "    dictionary=\"ECMWF\",\n",
    ")\n",
    "\n",
    "env.max_expected_height = 1000\n"
   ]
  },
  {
   "cell_type": "markdown",
   "metadata": {},
   "source": [
    "Visualize the `Environment` object\n"
   ]
  },
  {
   "cell_type": "code",
   "execution_count": null,
   "metadata": {},
   "outputs": [],
   "source": [
    "env.info()"
   ]
  },
  {
   "cell_type": "markdown",
   "metadata": {},
   "source": [
    "### Motor\n"
   ]
  },
  {
   "cell_type": "markdown",
   "metadata": {},
   "source": [
    "Define the `SolidMotor` object\n"
   ]
  },
  {
   "cell_type": "code",
   "execution_count": null,
   "metadata": {},
   "outputs": [],
   "source": [
    "k828fj = SolidMotor(\n",
    "    thrust_source=\"../../data/motors/aerotech/AeroTech_K828FJ.eng\",\n",
    "    burn_time=parameters.get(\"burn_time\")[0],\n",
    "    dry_mass=0.001,\n",
    "    dry_inertia=(0, 0, 0),\n",
    "    center_of_dry_mass_position=0.3,\n",
    "    grains_center_of_mass_position=0.3,\n",
    "    grain_number=3,\n",
    "    grain_separation=parameters.get(\"grain_separation\")[0],\n",
    "    grain_density=parameters.get(\"grain_density\")[0],\n",
    "    grain_outer_radius=parameters.get(\"grain_outer_radius\")[0],\n",
    "    grain_initial_inner_radius=parameters.get(\"grain_initial_inner_radius\")[0],\n",
    "    grain_initial_height=parameters.get(\"grain_initial_height\")[0],\n",
    "    nozzle_radius=parameters.get(\"nozzle_radius\")[0],\n",
    "    throat_radius=parameters.get(\"throat_radius\")[0],\n",
    "    interpolation_method=\"linear\",\n",
    "    nozzle_position=0,\n",
    "    coordinate_system_orientation=\"nozzle_to_combustion_chamber\",\n",
    ")"
   ]
  },
  {
   "cell_type": "code",
   "execution_count": null,
   "metadata": {},
   "outputs": [],
   "source": [
    "k828fj.plots.draw()"
   ]
  },
  {
   "cell_type": "code",
   "execution_count": null,
   "metadata": {},
   "outputs": [],
   "source": [
    "k828fj.info()"
   ]
  },
  {
   "cell_type": "markdown",
   "metadata": {},
   "source": [
    "### Rocket\n"
   ]
  },
  {
   "cell_type": "markdown",
   "metadata": {},
   "source": [
    "Create the `Rocket` object\n"
   ]
  },
  {
   "cell_type": "code",
   "execution_count": null,
   "metadata": {},
   "outputs": [],
   "source": [
    "bella_lui = Rocket(\n",
    "    radius=parameters.get(\"radius\")[0],\n",
    "    mass=parameters.get(\"rocket_mass\")[0],\n",
    "    inertia=(\n",
    "        parameters.get(\"inertia_i\")[0],\n",
    "        parameters.get(\"inertia_i\")[0],\n",
    "        parameters.get(\"inertia_z\")[0],\n",
    "    ),\n",
    "    power_off_drag=0.43,\n",
    "    power_on_drag=0.43,\n",
    "    center_of_mass_without_motor=0,\n",
    ")\n",
    "bella_lui.set_rail_buttons(0.1, -0.5)\n",
    "bella_lui.add_motor(motor=k828fj, position=parameters.get(\"distance_rocket_nozzle\")[0])"
   ]
  },
  {
   "cell_type": "markdown",
   "metadata": {},
   "source": [
    "Adding aerodynamic surfaces\n"
   ]
  },
  {
   "cell_type": "code",
   "execution_count": null,
   "metadata": {},
   "outputs": [],
   "source": [
    "nose_cone = bella_lui.add_nose(\n",
    "    length=parameters.get(\"nose_length\")[0],\n",
    "    kind=\"tangent\",\n",
    "    position=parameters.get(\"nose_distance_to_cm\")[0]\n",
    "    + parameters.get(\"nose_length\")[0],\n",
    ")\n",
    "fin_set = bella_lui.add_trapezoidal_fins(\n",
    "    3,\n",
    "    span=parameters.get(\"fin_span\")[0],\n",
    "    root_chord=parameters.get(\"fin_root_chord\")[0],\n",
    "    tip_chord=parameters.get(\"fin_tip_chord\")[0],\n",
    "    position=parameters.get(\"fin_distance_to_cm\")[0],\n",
    ")\n",
    "tail = bella_lui.add_tail(\n",
    "    top_radius=parameters.get(\"tail_top_radius\")[0],\n",
    "    bottom_radius=parameters.get(\"tail_bottom_radius\")[0],\n",
    "    length=parameters.get(\"tail_length\")[0],\n",
    "    position=parameters.get(\"tail_distance_to_cm\")[0],\n",
    ")"
   ]
  },
  {
   "cell_type": "markdown",
   "metadata": {},
   "source": [
    "Adding Parachute\n"
   ]
  },
  {
   "cell_type": "code",
   "execution_count": null,
   "metadata": {},
   "outputs": [],
   "source": [
    "Drogue = bella_lui.add_parachute(\n",
    "    \"Drogue\",\n",
    "    cd_s=parameters.get(\"CdS_drogue\")[0],\n",
    "    trigger=\"apogee\",\n",
    "    sampling_rate=105,\n",
    "    lag=parameters.get(\"lag_rec\")[0],\n",
    "    noise=(0, 8.3, 0.5),\n",
    ")"
   ]
  },
  {
   "cell_type": "markdown",
   "metadata": {},
   "source": [
    "Modify the Drag Coefficient curve\n"
   ]
  },
  {
   "cell_type": "code",
   "execution_count": null,
   "metadata": {},
   "outputs": [],
   "source": [
    "# Define aerodynamic drag coefficients\n",
    "bella_lui.power_off_drag = Function(\n",
    "    [\n",
    "        (0.01, 0.51),\n",
    "        (0.02, 0.46),\n",
    "        (0.04, 0.43),\n",
    "        (0.28, 0.43),\n",
    "        (0.29, 0.44),\n",
    "        (0.45, 0.44),\n",
    "        (0.49, 0.46),\n",
    "    ],\n",
    "    \"Mach Number\",\n",
    "    \"Drag Coefficient with Power Off\",\n",
    "    \"linear\",\n",
    "    \"constant\",\n",
    ")\n",
    "bella_lui.power_on_drag = Function(\n",
    "    [\n",
    "        (0.01, 0.51),\n",
    "        (0.02, 0.46),\n",
    "        (0.04, 0.43),\n",
    "        (0.28, 0.43),\n",
    "        (0.29, 0.44),\n",
    "        (0.45, 0.44),\n",
    "        (0.49, 0.46),\n",
    "    ],\n",
    "    \"Mach Number\",\n",
    "    \"Drag Coefficient with Power On\",\n",
    "    \"linear\",\n",
    "    \"constant\",\n",
    ")\n",
    "bella_lui.power_off_drag *= parameters.get(\"power_off_drag\")[0]\n",
    "bella_lui.power_on_drag *= parameters.get(\"power_on_drag\")[0]"
   ]
  },
  {
   "cell_type": "code",
   "execution_count": null,
   "metadata": {},
   "outputs": [],
   "source": [
    "bella_lui.info()"
   ]
  },
  {
   "cell_type": "code",
   "execution_count": null,
   "metadata": {},
   "outputs": [],
   "source": [
    "bella_lui.draw()"
   ]
  },
  {
   "cell_type": "markdown",
   "metadata": {},
   "source": [
    "### Flight\n"
   ]
  },
  {
   "cell_type": "code",
   "execution_count": null,
   "metadata": {},
   "outputs": [],
   "source": [
    "# Flight\n",
    "test_flight = Flight(\n",
    "    rocket=bella_lui,\n",
    "    environment=env,\n",
    "    rail_length=parameters.get(\"rail_length\")[0],\n",
    "    inclination=parameters.get(\"inclination\")[0],\n",
    "    heading=parameters.get(\"heading\")[0],\n",
    ")"
   ]
  },
  {
   "cell_type": "code",
   "execution_count": null,
   "metadata": {},
   "outputs": [],
   "source": [
    "test_flight.info()\n",
    "test_flight.plots.trajectory_3d()"
   ]
  },
  {
   "cell_type": "markdown",
   "metadata": {},
   "source": [
    "## Comparison with the real flight data\n"
   ]
  },
  {
   "cell_type": "markdown",
   "metadata": {},
   "source": [
    "Load the available flight data: altitude above ground level (m), vertical velocity (m/s), time (s)\n"
   ]
  },
  {
   "cell_type": "code",
   "execution_count": null,
   "metadata": {},
   "outputs": [],
   "source": [
    "flight_data = np.loadtxt(\n",
    "    \"../../data/rockets/EPFL_Bella_Lui/bella_lui_flight_data_filtered.csv\",\n",
    "    skiprows=1,\n",
    "    delimiter=\",\",\n",
    "    usecols=(2, 3, 4),\n",
    ")"
   ]
  },
  {
   "cell_type": "markdown",
   "metadata": {},
   "source": [
    "Convert to Function objects\n"
   ]
  },
  {
   "cell_type": "code",
   "execution_count": null,
   "metadata": {},
   "outputs": [],
   "source": [
    "actual_z = Function(\n",
    "    source=np.column_stack((flight_data[:573, 0], flight_data[:573, 1])),\n",
    "    inputs=\"Time (s)\",\n",
    "    outputs=\"Altitude above ground level (m)\",\n",
    "    interpolation=\"linear\",\n",
    "    extrapolation=\"zero\",\n",
    ")\n",
    "\n",
    "actual_vz = Function(\n",
    "    source=np.column_stack((flight_data[:573, 0], flight_data[:573, 2])),\n",
    "    inputs=\"Time (s)\",\n",
    "    outputs=\"Vertical velocity (m/s)\",\n",
    "    interpolation=\"linear\",\n",
    "    extrapolation=\"zero\",\n",
    ")\n",
    "\n",
    "# the actual acceleration will be calculated as the derivative of the actual velocity\n",
    "actual_az = actual_vz.derivative_function()"
   ]
  },
  {
   "cell_type": "markdown",
   "metadata": {},
   "source": [
    "We may need to filter the acceleration data to reduce the noise\n"
   ]
  },
  {
   "cell_type": "code",
   "execution_count": null,
   "metadata": {},
   "outputs": [],
   "source": [
    "az_filtered = savgol_filter(x=actual_az.source[:, 1], window_length=51, polyorder=3)\n",
    "\n",
    "actual_az_filtered = Function(\n",
    "    source=np.column_stack((actual_az.source[:, 0], az_filtered)),\n",
    "    inputs=\"Time (s)\",\n",
    "    outputs=\"Vertical acceleration (m/s^2)\",\n",
    "    interpolation=\"linear\",\n",
    "    extrapolation=\"zero\",\n",
    ")"
   ]
  },
  {
   "cell_type": "code",
   "execution_count": null,
   "metadata": {},
   "outputs": [],
   "source": [
    "Function.compare_plots(\n",
    "    [(actual_az, \"actual\"), (actual_az_filtered, \"filtered\")],\n",
    "    xlabel=\"Time (s)\",\n",
    "    ylabel=\"Vertical acceleration (m/s^2)\",\n",
    ")"
   ]
  },
  {
   "cell_type": "markdown",
   "metadata": {},
   "source": [
    "Get the simulated results\n"
   ]
  },
  {
   "cell_type": "code",
   "execution_count": null,
   "metadata": {},
   "outputs": [],
   "source": [
    "simulated_z = test_flight.z - env.elevation\n",
    "simulated_vz = test_flight.vz\n",
    "simulated_az = test_flight.az\n",
    "simulated_t_final = test_flight.t_final\n",
    "simulated_apogee = test_flight.apogee - env.elevation"
   ]
  },
  {
   "cell_type": "markdown",
   "metadata": {},
   "source": [
    "### Plots comparison\n"
   ]
  },
  {
   "cell_type": "code",
   "execution_count": null,
   "metadata": {},
   "outputs": [],
   "source": [
    "plt.plot(actual_z[:, 0], actual_z[:, 1], label=\"Flight data\")\n",
    "plt.plot(simulated_z[:, 0], simulated_z[:, 1], label=\"RocketPy\")\n",
    "plt.xlabel(\"Time (s)\")\n",
    "plt.ylabel(\"Altitude (m)\")\n",
    "plt.ylim(0, round(simulated_apogee, -2))\n",
    "plt.xlim(0, round(simulated_t_final, -1))\n",
    "plt.legend()\n",
    "plt.grid()\n",
    "plt.show()"
   ]
  },
  {
   "cell_type": "code",
   "execution_count": null,
   "metadata": {},
   "outputs": [],
   "source": [
    "plt.plot(actual_vz[:, 0], actual_vz[:, 1], label=\"Flight data\")\n",
    "plt.plot(simulated_vz[:, 0], simulated_vz[:, 1], label=\"RocketPy\")\n",
    "plt.xlabel(\"Time (s)\")\n",
    "plt.ylabel(\"Vertical velocity (m/s)\")\n",
    "# plt.ylim()\n",
    "plt.xlim(0, round(simulated_t_final, -1))\n",
    "plt.legend()\n",
    "plt.grid()\n",
    "plt.show()"
   ]
  },
  {
   "cell_type": "code",
   "execution_count": null,
   "metadata": {},
   "outputs": [],
   "source": [
    "plt.plot(actual_az_filtered[:, 0], actual_az_filtered[:, 1], label=\"Flight data\")\n",
    "plt.plot(simulated_az[:, 0], simulated_az[:, 1], label=\"RocketPy\")\n",
    "plt.xlabel(\"Time (s)\")\n",
    "plt.ylabel(\"Vertical acceleration (m/s^2)\")\n",
    "# plt.ylim()\n",
    "plt.xlim(0, round(simulated_t_final, -1))\n",
    "plt.legend()\n",
    "plt.grid()\n",
    "plt.show()"
   ]
  },
  {
   "cell_type": "markdown",
   "metadata": {},
   "source": [
    "### Numerical comparison\n"
   ]
  },
  {
   "cell_type": "code",
   "execution_count": null,
   "metadata": {},
   "outputs": [],
   "source": [
    "print(\"Apogee (AGL)\")\n",
    "print(f\"RocketPy: {simulated_apogee:.2f} m\")\n",
    "print(f\"Real data: {actual_z.max:.2f} m\")\n",
    "diff = abs(actual_z.max - simulated_apogee)\n",
    "print(f\"Absolute error: {diff:.2f} m\")\n",
    "print(f\"Relative error: {diff / actual_z.max * 100:.2f} %\")"
   ]
  },
  {
   "cell_type": "code",
   "execution_count": null,
   "metadata": {},
   "outputs": [],
   "source": [
    "print(\"Max Velocity\")\n",
    "print(f\"RocketPy:  {simulated_vz.max:.2f} m/s\")\n",
    "print(f\"Real data: {actual_vz.max:.2f} m/s\")\n",
    "velocity_error = simulated_vz.max - actual_vz.max\n",
    "print(f\"Absolute error: {velocity_error:.2f} m/s\")\n",
    "relative_error = abs(velocity_error) / actual_vz.max * 100\n",
    "print(f\"Relative error: {relative_error:.2f} %\")"
   ]
  },
  {
   "cell_type": "code",
   "execution_count": null,
   "metadata": {},
   "outputs": [
    {
     "name": "stdout",
     "output_type": "stream",
     "text": [
      "Max Acceleration\n",
      "RocketPy:  58.46 m/s²\n",
      "Real data (derivative): 58.73 m/s²\n",
      "Absolute error: -0.27 m/s^2\n",
      "Relative error: 0.46 %\n"
     ]
    }
   ],
   "source": [
    "print(\"Max Acceleration\")\n",
    "print(f\"RocketPy:  {simulated_az.max:.2f} m/s²\")\n",
    "print(f\"Real data (derivative): {actual_az_filtered.max:.2f} m/s²\")\n",
    "acceleration_error = simulated_az.max - actual_az_filtered.max\n",
    "print(f\"Absolute error: {acceleration_error:.2f} m/s^2\")\n",
    "relative_error = abs(acceleration_error) / actual_az_filtered.max * 100\n",
    "print(f\"Relative error: {relative_error:.2f} %\")"
   ]
  }
 ],
 "metadata": {
  "language_info": {
   "name": "python"
  },
  "nbdime-conflicts": {
   "local_diff": [
    {
     "key": "kernelspec",
     "op": "add",
     "value": {
      "display_name": ".venv",
      "language": "python",
      "name": "python3"
     }
    },
    {
     "key": "language_info",
     "op": "add",
     "value": {
      "codemirror_mode": {
       "name": "ipython",
       "version": 3
      },
      "file_extension": ".py",
      "mimetype": "text/x-python",
      "name": "python",
      "nbconvert_exporter": "python",
      "pygments_lexer": "ipython3",
      "version": "3.11.0"
     }
    }
   ],
   "remote_diff": [
    {
     "key": "kernelspec",
     "op": "add",
     "value": {
      "display_name": ".venv12",
      "language": "python",
      "name": "python3"
     }
    },
    {
     "key": "language_info",
     "op": "add",
     "value": {
      "codemirror_mode": {
       "name": "ipython",
       "version": 3
      },
      "file_extension": ".py",
      "mimetype": "text/x-python",
      "name": "python",
      "nbconvert_exporter": "python",
      "pygments_lexer": "ipython3",
      "version": "3.12.4"
     }
    }
   ]
  }
 },
 "nbformat": 4,
 "nbformat_minor": 2
}
