{
 "cells": [
  {
   "cell_type": "markdown",
   "metadata": {},
   "source": [
    "# Notre Dame Rocket Team Rocket 2020\n",
    "\n",
    "Launched at 19045-18879 Avery Rd, Three Oaks, MI 49128.\n",
    "Permission to use flight data given by Brooke Mumma, 2020.\n",
    "\n",
    "Import Results (23rd feb)\n",
    "\n",
    "1. Measured Stability Margin 2.875 cal\n",
    "2. Official Target Altitude 4,444 ft\n",
    "3. Measured Altitude 4,320 ft or 1316.736 m\n",
    "4. Drift: 2275 ft\n"
   ]
  },
  {
   "cell_type": "code",
   "execution_count": null,
   "metadata": {},
   "outputs": [],
   "source": [
    "%load_ext autoreload\n",
    "%autoreload 2"
   ]
  },
  {
   "cell_type": "code",
   "execution_count": null,
   "metadata": {},
   "outputs": [],
   "source": [
    "# Importing libraries\n",
    "import matplotlib.pyplot as plt\n",
    "import numpy as np\n",
    "from scipy.signal import savgol_filter\n",
    "\n",
    "from rocketpy import Environment, Flight, Function, Rocket, SolidMotor"
   ]
  },
  {
   "cell_type": "code",
   "execution_count": null,
   "metadata": {},
   "outputs": [],
   "source": [
    "plt.style.use(\"seaborn-v0_8-dark-palette\")"
   ]
  },
  {
   "cell_type": "markdown",
   "metadata": {},
   "source": [
    "## RocketPy Simulation\n"
   ]
  },
  {
   "cell_type": "markdown",
   "metadata": {},
   "source": [
    "Define a dictionary with the inputs for the simulation\n"
   ]
  },
  {
   "cell_type": "code",
   "execution_count": null,
   "metadata": {},
   "outputs": [],
   "source": [
    "parameters = {\n",
    "    # Mass Details\n",
    "<<<<<<< local\n",
    "    \"rocket_mass\": (18.998, 0.010), # Rocket dry mass: 20.846 kg\n",
    "=======\n",
    "    \"rocket_mass\": (18.998, 0.010),  # Rocket dry mass: 20.846 kg\n",
    ">>>>>>> remote\n",
    "    # propulsion details\n",
    "    \"motor_structure_mass\": (1.848, 0.1),\n",
    "    \"burn_time\": (3.433, 0.1),\n",
    "    \"nozzle_radius\": (0.02475, 0.001),\n",
    "    \"throat_radius\": (0.01075, 0.001),\n",
    "    \"grain_separation\": (0.003, 0.001),\n",
    "    \"grain_density\": (1519.708, 30),\n",
    "    \"grain_outer_radius\": (0.033, 0.001),\n",
    "    \"grain_initial_inner_radius\": (0.015, 0.002),\n",
    "    \"grain_initial_height\": (0.12, 0.001),\n",
    "    \"grains_center_of_mass_position\": (-0.35, 0.100),\n",
    "    \"nozzle_position\": (0, 0.100),\n",
    "    \"motor_position\": (3.391, 0.100),\n",
    "    # aerodynamic details\n",
    "    \"center_of_mass_without_motor\": (1.3, 0.100),\n",
    "    \"drag_coefficient\": (0.44, 0.1),\n",
    "    \"inertia_i\": (73.316, 0.3 * 73.316),\n",
    "    \"inertia_z\": (0.15982, 0.3 * 0.15982),\n",
    "    \"radius\": (0.1015, 0.001),\n",
    "    \"power_off_drag\": (1, 0.033),\n",
    "    \"power_on_drag\": (1, 0.033),\n",
    "    ## nose cone\n",
    "    \"nose_length\": (0.610, 0.001),\n",
    "    \"nose_radius\": (0.1015, 0.001),\n",
    "    \"nose_position\": (0, 0.100),\n",
    "    ## fins\n",
    "    \"fin_span\": (0.165, 0.001),\n",
    "    \"fin_root_chord\": (0.152, 0.001),\n",
    "    \"fin_tip_chord\": (0.0762, 0.001),\n",
    "    \"fin_sweep_angle\": (13, 0.5),\n",
    "    \"fin_position\": (3.050, 0.100),\n",
    "    ## transitions\n",
    "    \"transition_top_radius\": (0.1015, 0.010),\n",
    "    \"transition_bottom_radius\": (0.0775, 0.010),\n",
    "    \"transition_length\": (0.127, 0.010),\n",
    "    \"transition_position\": (1.2, 0.010),\n",
    "    # launch and environment details\n",
    "    \"wind_direction\": (0, 3),\n",
    "    \"wind_speed\": (1, 0.30),\n",
    "    \"inclination\": (90, 1),\n",
    "    \"heading\": (181, 3),\n",
    "    \"rail_length\": (3.353, 0.001),\n",
    "    # parachute details\n",
    "    \"cd_s_drogue\": (1.5 * np.pi * (24 * 25.4 / 1000) * (24 * 25.4 / 1000) / 4, 0.1),\n",
    "    \"cd_s_main\": (2.2 * np.pi * (120 * 25.4 / 1000) * (120 * 25.4 / 1000) / 4, 0.1),\n",
    "    \"lag_rec\": (1, 0.5),\n",
    "}\n",
    "\n",
    "# rocket: nose_to_tail"
   ]
  },
  {
   "cell_type": "markdown",
   "metadata": {},
   "source": [
    "### Environment\n"
   ]
  },
  {
   "cell_type": "markdown",
   "metadata": {},
   "source": [
    "Define the `Environment` object\n"
   ]
  },
  {
   "cell_type": "code",
   "execution_count": null,
   "metadata": {},
   "outputs": [],
   "source": [
    "# Environment conditions\n",
    "env = Environment(\n",
    "    gravity=9.81,\n",
    "    latitude=41.775447,\n",
    "    longitude=-86.572467,\n",
    "    date=(2020, 2, 23, 16),\n",
    "    elevation=206,\n",
    ")\n",
    "\n",
    "env.set_atmospheric_model(\n",
    "    type=\"Reanalysis\",\n",
    "<<<<<<< local\n",
    "    file=\"../../tests/fixtures/acceptance/NDRT_2020/ndrt_2020_weather_data_ERA5.nc\",\n",
    "=======\n",
    "    file=\"../../data/weather/ndrt_2020_weather_data_ERA5.nc\",\n",
    ">>>>>>> remote\n",
    "    dictionary=\"ECMWF\",\n",
    ")"
   ]
  },
  {
   "cell_type": "markdown",
   "metadata": {},
   "source": [
    "Visualize the `Environment` object\n"
   ]
  },
  {
   "cell_type": "code",
   "execution_count": null,
   "metadata": {},
   "outputs": [],
   "source": [
    "# env.info()"
   ]
  },
  {
   "cell_type": "markdown",
   "metadata": {},
   "source": [
    "### Motor\n"
   ]
  },
  {
   "cell_type": "markdown",
   "metadata": {},
   "source": [
    "Define the `SolidMotor` object\n"
   ]
  },
  {
   "cell_type": "code",
   "execution_count": null,
   "metadata": {},
   "outputs": [],
   "source": [
    "motor_l1395 = SolidMotor(\n",
    "<<<<<<< local\n",
    "    thrust_source=\"../../tests/fixtures/acceptance/NDRT_2020/ndrt_2020_motor_Cesaroni_4895L1395-P.eng\",\n",
    "=======\n",
    "    thrust_source=\"../../data/motors/cesaroni/Cesaroni_4895L1395-P.eng\",\n",
    ">>>>>>> remote\n",
    "    burn_time=parameters.get(\"burn_time\")[0],\n",
    "    dry_mass=parameters.get(\"motor_structure_mass\")[0],\n",
    "    dry_inertia=(0, 0, 0),\n",
    "    center_of_dry_mass_position=parameters.get(\"grains_center_of_mass_position\")[0],\n",
    "    grains_center_of_mass_position=parameters.get(\"grains_center_of_mass_position\")[0],\n",
    "    grain_number=5,\n",
    "    grain_separation=parameters.get(\"grain_separation\")[0],\n",
    "    grain_density=parameters.get(\"grain_density\")[0],\n",
    "    grain_outer_radius=parameters.get(\"grain_outer_radius\")[0],\n",
    "    grain_initial_inner_radius=parameters.get(\"grain_initial_inner_radius\")[0],\n",
    "    grain_initial_height=parameters.get(\"grain_initial_height\")[0],\n",
    "    nozzle_radius=parameters.get(\"nozzle_radius\")[0],\n",
    "    throat_radius=parameters.get(\"throat_radius\")[0],\n",
    "    interpolation_method=\"linear\",\n",
    "    nozzle_position=parameters.get(\"nozzle_position\")[0],\n",
    "<<<<<<< local\n",
    "    coordinate_system_orientation=\"combustion_chamber_to_nozzle\" #combustion_chamber_to_nozzle\"\n",
    "=======\n",
    "    coordinate_system_orientation=\"combustion_chamber_to_nozzle\",  # combustion_chamber_to_nozzle\"\n",
    ">>>>>>> remote\n",
    ")"
   ]
  },
  {
   "cell_type": "code",
   "execution_count": null,
   "metadata": {},
   "outputs": [],
   "source": [
    "motor_l1395.plots.draw()"
   ]
  },
  {
   "cell_type": "code",
   "execution_count": null,
   "metadata": {},
   "outputs": [],
   "source": [
    "motor_l1395.info()"
   ]
  },
  {
   "cell_type": "markdown",
   "metadata": {},
   "source": [
    "### Rocket\n"
   ]
  },
  {
   "cell_type": "markdown",
   "metadata": {},
   "source": [
    "Create the `Rocket` object\n"
   ]
  },
  {
   "cell_type": "code",
   "execution_count": null,
   "metadata": {},
   "outputs": [],
   "source": [
    "ndrt2020 = Rocket(\n",
    "    radius=parameters.get(\"radius\")[0],\n",
    "    mass=parameters.get(\"rocket_mass\")[0],\n",
    "    inertia=(\n",
    "        parameters.get(\"inertia_i\")[0],\n",
    "        parameters.get(\"inertia_i\")[0],\n",
    "        parameters.get(\"inertia_z\")[0],\n",
    "    ),\n",
    "    power_off_drag=parameters.get(\"drag_coefficient\")[0],\n",
    "    power_on_drag=parameters.get(\"drag_coefficient\")[0],\n",
    "    center_of_mass_without_motor=parameters.get(\"center_of_mass_without_motor\")[0],\n",
    "    coordinate_system_orientation=\"nose_to_tail\",\n",
    ")\n",
    "ndrt2020.set_rail_buttons(1.5, 2, 45)\n",
    "\n",
    "<<<<<<< local\n",
    "ndrt2020.add_motor(\n",
    "    motor=motor_l1395, position=parameters.get(\"motor_position\")[0]\n",
    ")\n",
    "=======\n",
    "ndrt2020.add_motor(motor=motor_l1395, position=parameters.get(\"motor_position\")[0])\n",
    ">>>>>>> remote"
   ]
  },
  {
   "cell_type": "markdown",
   "metadata": {},
   "source": [
    "Adding aerodynamic surfaces\n"
   ]
  },
  {
   "cell_type": "code",
   "execution_count": null,
   "metadata": {},
   "outputs": [],
   "source": [
    "nose_cone = ndrt2020.add_nose(\n",
    "    length=parameters.get(\"nose_length\")[0],\n",
    "    kind=\"tangent\",\n",
    "<<<<<<< local\n",
    "    position=parameters.get(\"nose_position\")[0]\n",
    "=======\n",
    "    position=parameters.get(\"nose_position\")[0],\n",
    ">>>>>>> remote\n",
    ")\n",
    "fin_set = ndrt2020.add_trapezoidal_fins(\n",
    "    4,\n",
    "    span=parameters.get(\"fin_span\")[0],\n",
    "    root_chord=parameters.get(\"fin_root_chord\")[0],\n",
    "    tip_chord=parameters.get(\"fin_tip_chord\")[0],\n",
    "    position=parameters.get(\"fin_position\")[0],\n",
    "    sweep_angle=parameters.get(\"fin_sweep_angle\")[0],\n",
    "    radius=parameters.get(\"transition_bottom_radius\")[0],\n",
    ")\n",
    "transition = ndrt2020.add_tail(\n",
    "    top_radius=parameters.get(\"transition_top_radius\")[0],\n",
    "    bottom_radius=parameters.get(\"transition_bottom_radius\")[0],\n",
    "    length=parameters.get(\"transition_length\")[0],\n",
    "    position=parameters.get(\"transition_position\")[0],\n",
    ")"
   ]
  },
  {
   "cell_type": "markdown",
   "metadata": {},
   "source": [
    "Adding Parachute\n"
   ]
  },
  {
   "cell_type": "code",
   "execution_count": null,
   "metadata": {},
   "outputs": [],
   "source": [
    "drogue = ndrt2020.add_parachute(\n",
    "    \"Drogue\",\n",
    "    cd_s=parameters.get(\"cd_s_drogue\")[0],\n",
    "    trigger=\"apogee\",\n",
    "    sampling_rate=105,\n",
    "    lag=parameters.get(\"lag_rec\")[0],\n",
    "    noise=(0, 8.3, 0.5),\n",
    ")\n",
    "main = ndrt2020.add_parachute(\n",
    "    \"Main\",\n",
    "    cd_s=parameters.get(\"cd_s_main\")[0],\n",
    "    trigger=167.64,\n",
    "    sampling_rate=105,\n",
    "    lag=parameters.get(\"lag_rec\")[0],\n",
    "    noise=(0, 8.3, 0.5),\n",
    ")"
   ]
  },
  {
   "cell_type": "code",
   "execution_count": null,
   "metadata": {},
   "outputs": [],
   "source": [
    "ndrt2020.draw()"
   ]
  },
  {
   "cell_type": "code",
   "execution_count": null,
   "metadata": {},
   "outputs": [],
   "source": [
    "ndrt2020.info()"
   ]
  },
  {
   "cell_type": "markdown",
   "metadata": {},
   "source": [
    "### Flight\n"
   ]
  },
  {
   "cell_type": "code",
   "execution_count": null,
   "metadata": {},
   "outputs": [],
   "source": [
    "# Flight\n",
    "flight = Flight(\n",
    "    rocket=ndrt2020,\n",
    "    environment=env,\n",
    "    rail_length=parameters.get(\"rail_length\")[0],\n",
    "    inclination=parameters.get(\"inclination\")[0],\n",
    "    heading=parameters.get(\"heading\")[0],\n",
    ")"
   ]
  },
  {
   "cell_type": "code",
   "execution_count": null,
   "metadata": {},
   "outputs": [],
   "source": [
    "flight.info()\n",
    "flight.plots.trajectory_3d()"
   ]
  },
  {
   "cell_type": "markdown",
   "metadata": {},
   "source": [
    "## Comparison with the real flight data\n"
   ]
  },
  {
   "cell_type": "markdown",
   "metadata": {},
   "source": [
    "Load the available flight data: altitude above ground level (m), vertical velocity (m/s), time (s)\n"
   ]
  },
  {
   "cell_type": "code",
   "execution_count": null,
   "metadata": {},
   "outputs": [],
   "source": [
    "flight_data = np.loadtxt(\n",
    "<<<<<<< local\n",
    "    \"../../tests/fixtures/acceptance/NDRT_2020/ndrt_2020_flight_data.csv\",\n",
    "=======\n",
    "    \"../../data/rockets/NDRT_2020/ndrt_2020_flight_data.csv\",\n",
    ">>>>>>> remote\n",
    "    skiprows=1,\n",
    "    delimiter=\",\",\n",
    "    usecols=(3, 4),  # 3: Time (s); 4: Altitude (Ft-AGL)\n",
    ")\n",
    "\n",
    "# TODO: In the future, we could also use the axial acceleration data to compare against the simulation"
   ]
  },
  {
   "cell_type": "markdown",
   "metadata": {},
   "source": [
    "Convert to Function objects\n"
   ]
  },
  {
   "cell_type": "code",
   "execution_count": null,
   "metadata": {},
   "outputs": [],
   "source": [
    "actual_z = Function(\n",
    "    source=np.column_stack((flight_data[:, 0], flight_data[:, 1] / 3.281)),\n",
    "    inputs=\"Time (s)\",\n",
    "    outputs=\"Altitude above ground level (m)\",\n",
    "    interpolation=\"linear\",\n",
    "    extrapolation=\"zero\",\n",
    "<<<<<<< local\n",
    ") # the division by 3.281 is to convert from feet to meters\n",
    "=======\n",
    ")  # the division by 3.281 is to convert from feet to meters\n",
    ">>>>>>> remote"
   ]
  },
  {
   "cell_type": "code",
   "execution_count": null,
   "metadata": {},
   "outputs": [],
   "source": [
    "# Calculate the actual vertical velocity as the derivative of the altitude\n",
    "actual_vz = actual_z.derivative_function()\n",
    "actual_vz_filtered = Function(\n",
    "    source=np.column_stack(\n",
    "        (actual_vz.source[:, 0], savgol_filter(actual_vz.source[:, 1], 51, 3))\n",
    "    ),\n",
    "    inputs=\"Time (s)\",\n",
    "    outputs=\"Vertical velocity (m/s)\",\n",
    "    interpolation=\"linear\",\n",
    "    extrapolation=\"zero\",\n",
    ")"
   ]
  },
  {
   "cell_type": "code",
   "execution_count": null,
   "metadata": {},
   "outputs": [],
   "source": [
    "Function.compare_plots(\n",
    "<<<<<<< local\n",
    "    plot_list=[(actual_vz, \"Actual\"),(actual_vz_filtered, \"Filtered\")],\n",
    "=======\n",
    "    plot_list=[(actual_vz, \"Actual\"), (actual_vz_filtered, \"Filtered\")],\n",
    ">>>>>>> remote\n",
    "    ylabel=\"Vertical velocity (m/s)\",\n",
    "    title=\"Vertical velocity\",\n",
    "    xlabel=\"Time (s)\",\n",
    ")"
   ]
  },
  {
   "cell_type": "code",
   "execution_count": null,
   "metadata": {},
   "outputs": [],
   "source": [
    "# the actual vertical velocity will be calculated as the derivative of the altitude\n",
    "actual_az = actual_vz_filtered.derivative_function()\n",
    "\n",
    "actual_az_filtered = Function(\n",
    "    source=np.column_stack(\n",
    "        (actual_az.source[:, 0], savgol_filter(actual_az.source[:, 1], 51, 3))\n",
    "    ),\n",
    "    inputs=\"Time (s)\",\n",
    "    outputs=\"Vertical acceleration (m/s^2)\",\n",
    "    interpolation=\"linear\",\n",
    "    extrapolation=\"zero\",\n",
    ")"
   ]
  },
  {
   "cell_type": "code",
   "execution_count": null,
   "metadata": {},
   "outputs": [],
   "source": [
    "Function.compare_plots(\n",
    "<<<<<<< local\n",
    "    plot_list=[(actual_az, \"Actual\"),(actual_az_filtered, \"Filtered\")],\n",
    "    ylabel=\"Vertical acceleration (m/s^2)\",\n",
    "    title=\"Vertical acceleration\",\n",
    "    xlabel=\"Time (s)\",\n",
    ")\n",
    "=======\n",
    "    plot_list=[(actual_az, \"Actual\"), (actual_az_filtered, \"Filtered\")],\n",
    "    ylabel=\"Vertical acceleration (m/s^2)\",\n",
    "    title=\"Vertical acceleration\",\n",
    "    xlabel=\"Time (s)\",\n",
    ")\n",
    ">>>>>>> remote"
   ]
  },
  {
   "cell_type": "markdown",
   "metadata": {},
   "source": [
    "Get the simulated results\n"
   ]
  },
  {
   "cell_type": "code",
   "execution_count": null,
   "metadata": {},
   "outputs": [],
   "source": [
    "simulated_z = flight.z - env.elevation\n",
    "simulated_vz = flight.vz\n",
    "simulated_az = flight.az\n",
    "simulated_t_final = flight.t_final\n",
    "simulated_apogee = flight.apogee - env.elevation"
   ]
  },
  {
   "cell_type": "markdown",
   "metadata": {},
   "source": [
    "### Plots comparison\n"
   ]
  },
  {
   "cell_type": "code",
   "execution_count": null,
   "metadata": {},
   "outputs": [],
   "source": [
    "plt.plot(actual_z[:, 0], actual_z[:, 1], label=\"Flight data\")\n",
    "plt.plot(simulated_z[:, 0], simulated_z[:, 1], label=\"RocketPy\")\n",
    "plt.xlabel(\"Time (s)\")\n",
    "plt.ylabel(\"Altitude (m)\")\n",
    "plt.ylim(0, 1390)\n",
    "plt.xlim(0, round(simulated_t_final, -1))\n",
    "plt.legend()\n",
    "plt.grid()\n",
    "plt.show()"
   ]
  },
  {
   "cell_type": "code",
   "execution_count": null,
   "metadata": {},
   "outputs": [],
   "source": [
    "plt.plot(actual_vz_filtered[:, 0], actual_vz_filtered[:, 1], label=\"Flight data\")\n",
    "plt.plot(simulated_vz[:, 0], simulated_vz[:, 1], label=\"RocketPy\")\n",
    "plt.xlabel(\"Time (s)\")\n",
    "plt.ylabel(\"Vertical velocity (m/s)\")\n",
    "plt.xlim(0, round(simulated_t_final, -1))\n",
    "plt.legend()\n",
    "plt.grid()\n",
    "plt.show()"
   ]
  },
  {
   "cell_type": "code",
   "execution_count": null,
   "metadata": {},
   "outputs": [],
   "source": [
    "plt.plot(actual_az_filtered[:, 0], actual_az_filtered[:, 1], label=\"Flight data\")\n",
    "plt.plot(simulated_az[:, 0], simulated_az[:, 1], label=\"RocketPy\")\n",
    "plt.xlabel(\"Time (s)\")\n",
    "plt.ylabel(\"Vertical acceleration (m/s^2)\")\n",
    "plt.xlim(0, round(simulated_t_final, -1))\n",
    "plt.legend()\n",
    "plt.grid()\n",
    "plt.show()"
   ]
  },
  {
   "cell_type": "markdown",
   "metadata": {},
   "source": [
    "### Numerical comparison\n"
   ]
  },
  {
   "cell_type": "code",
   "execution_count": null,
   "metadata": {},
   "outputs": [],
   "source": [
    "print(\"Apogee (AGL)\")\n",
    "print(f\"RocketPy: {simulated_apogee:.2f} m\")\n",
    "print(f\"Real data: {actual_z.max:.2f} m\")\n",
    "diff = abs(actual_z.max - simulated_apogee)\n",
    "print(f\"Absolute error: {diff:.2f} m\")\n",
    "print(f\"Relative error: {diff / actual_z.max * 100:.2f} %\")"
   ]
  },
  {
   "cell_type": "code",
   "execution_count": null,
   "metadata": {},
   "outputs": [],
   "source": [
    "print(\"Max Velocity\")\n",
    "print(f\"RocketPy:  {simulated_vz.max:.2f} m/s\")\n",
    "print(f\"Real data: {actual_vz_filtered.max:.2f} m/s\")\n",
    "velocity_error = simulated_vz.max - actual_vz_filtered.max\n",
    "print(f\"Absolute error: {velocity_error:.2f} m/s\")\n",
    "relative_error = abs(velocity_error) / actual_vz_filtered.max * 100\n",
    "print(f\"Relative error: {relative_error:.2f} %\")"
   ]
  },
  {
   "cell_type": "code",
   "execution_count": null,
   "metadata": {},
   "outputs": [
    {
     "name": "stdout",
     "output_type": "stream",
     "text": [
      "Max Acceleration (before parachute deployment)\n",
      "RocketPy: 67.08 m/s²\n",
      "Real data: 72.45 m/s²\n",
      "Absolute error: -5.36 m/s^2\n",
      "Relative error: 7.40 %\n"
     ]
    }
   ],
   "source": [
    "print(\"Max Acceleration (before parachute deployment)\")\n",
    "\n",
    "# For some reason, the acceleration data gets a shock at the deployment of a parachute\n",
    "# We will investigate the acceleration data before the parachute deployment\n",
    "# For pragmatical reasons, we will consider the parachute deployment to be at the half of the flight\n",
    "\n",
    "# Compute the maximum acceleration for the first half of the flight\n",
    "simulated_half_length = len(simulated_az) // 2\n",
    "max_simulated_az = np.max(simulated_az[:, 1][:simulated_half_length])\n",
    "\n",
    "actual_half_length = len(actual_az_filtered) // 2\n",
    "max_actual_az_filtered = np.max(actual_az_filtered[:, 1][:actual_half_length])\n",
    "\n",
    "# Print the results\n",
    "print(f\"RocketPy: {max_simulated_az:.2f} m/s²\")\n",
    "print(f\"Real data: {actual_az_filtered.max:.2f} m/s²\")\n",
    "\n",
    "# Compute and print the errors\n",
    "acceleration_error = max_simulated_az - actual_az_filtered.max\n",
    "print(f\"Absolute error: {acceleration_error:.2f} m/s^2\")\n",
    "relative_error = abs(acceleration_error) / actual_az_filtered.max * 100\n",
    "print(f\"Relative error: {relative_error:.2f} %\")"
   ]
  },
  {
   "cell_type": "code",
   "execution_count": null,
   "metadata": {},
   "outputs": [],
   "source": [
    "# 1. Measured Stability Margin 2.875 cal\n",
    "# 2. Official Target Altitude 4,444 ft\n",
    "# 3. Measured Altitude 4,320 ft or 1316.736 m\n",
    "# 4. Drift: 2275 ft"
   ]
  }
 ],
 "metadata": {
  "kernelspec": {
   "display_name": ".venv",
   "language": "python",
   "name": "python3"
  },
  "nbdime-conflicts": {
   "local_diff": [
    {
     "key": "language_info",
     "op": "add",
     "value": {
      "codemirror_mode": {
       "name": "ipython",
       "version": 3
      },
      "file_extension": ".py",
      "mimetype": "text/x-python",
      "name": "python",
      "nbconvert_exporter": "python",
      "pygments_lexer": "ipython3",
      "version": "3.11.0"
     }
    }
   ],
   "remote_diff": [
    {
     "key": "language_info",
     "op": "add",
     "value": {
      "codemirror_mode": {
       "name": "ipython",
       "version": 3
      },
      "file_extension": ".py",
      "mimetype": "text/x-python",
      "name": "python",
      "nbconvert_exporter": "python",
      "pygments_lexer": "ipython3",
      "version": "3.10.11"
     }
    }
   ]
  }
 },
 "nbformat": 4,
 "nbformat_minor": 2
}
