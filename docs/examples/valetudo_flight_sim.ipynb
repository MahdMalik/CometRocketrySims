{
 "cells": [
  {
   "cell_type": "markdown",
   "metadata": {},
   "source": [
    "# Valetudo - Projeto Jupiter - 2019\n",
    "Valetudo launch from Projeto Jupiter (University of São Paulo, Brazil).\n",
    "Permission to use flight data given by Guilherme Fernandes, 2020\n"
   ]
  },
  {
   "cell_type": "code",
   "execution_count": null,
   "metadata": {},
   "outputs": [
    {
     "name": "stdout",
     "output_type": "stream",
     "text": [
      "The autoreload extension is already loaded. To reload it, use:\n",
      "  %reload_ext autoreload\n"
     ]
    }
   ],
   "source": [
    "%load_ext autoreload\n",
    "%autoreload 2"
   ]
  },
  {
   "cell_type": "code",
   "execution_count": null,
   "metadata": {},
   "outputs": [],
   "source": [
    "# Importing libraries\n",
    "import matplotlib.pyplot as plt\n",
    "\n",
    "from rocketpy import Environment, Flight, Rocket, SolidMotor"
   ]
  },
  {
   "cell_type": "code",
   "execution_count": null,
   "metadata": {},
   "outputs": [],
   "source": [
    "plt.style.use(\"seaborn-v0_8-dark-palette\")"
   ]
  },
  {
   "cell_type": "markdown",
   "metadata": {},
   "source": [
    "## RocketPy Simulation\n"
   ]
  },
  {
   "cell_type": "markdown",
   "metadata": {},
   "source": [
    "Define a dictionary with the inputs for the simulation\n"
   ]
  },
  {
   "cell_type": "code",
   "execution_count": null,
   "metadata": {},
   "outputs": [],
   "source": [
    "parameters = {\n",
    "    # Mass Details\n",
    "    \"rocket_mass\": (8.257, 0.001),\n",
    "    # Propulsion Details\n",
    "    \"impulse\": (1415.15, 35.3),\n",
    "    \"burn_time\": (5.274, 1),\n",
    "    \"nozzle_radius\": (21.642 / 1000, 0.5 / 1000),\n",
    "    \"throat_radius\": (8 / 1000, 0.5 / 1000),\n",
    "    \"grain_separation\": (6 / 1000, 1 / 1000),\n",
    "    \"grain_density\": (1707, 50),\n",
    "    \"grain_outer_radius\": (21.4 / 1000, 0.375 / 1000),\n",
    "    \"grain_initial_inner_radius\": (9.65 / 1000, 0.375 / 1000),\n",
    "    \"grain_initial_height\": (120 / 1000, 1 / 1000),\n",
    "    # Aerodynamic Details\n",
    "    \"inertia_I\": (3.675, 0.03675),\n",
    "    \"inertia_Z\": (0.007, 0.00007),\n",
    "    \"radius\": (40.45 / 1000, 0.001),\n",
    "    \"distance_rocket_nozzle\": (-1.024, 0.001),\n",
    "    \"distance_rocket_propellant\": (-0.571, 0.001),\n",
    "    \"power_off_drag\": (0.9081 / 1.05, 0.033),\n",
    "    \"power_on_drag\": (0.9081 / 1.05, 0.033),\n",
    "    \"nose_length\": (0.274, 0.001),\n",
    "    \"nose_distance_to_cm\": (1.134, 0.001),\n",
    "    \"fin_span\": (0.077, 0.0005),\n",
    "    \"fin_root_chord\": (0.058, 0.0005),\n",
    "    \"fin_tip_chord\": (0.018, 0.0005),\n",
    "    \"fin_distance_to_cm\": (-0.906, 0.001),\n",
    "    # Launch and Environment Details\n",
    "    \"wind_direction\": (0, 2),\n",
    "    \"wind_speed\": (1, 0.033),\n",
    "    \"inclination\": (84.7, 1),\n",
    "    \"heading\": (53, 2),\n",
    "    \"rail_length\": (5.7, 0.0005),\n",
    "    # Parachute Details\n",
    "    \"cd_s_drogue\": (0.349 * 1.3, 0.07),\n",
    "    \"lag_rec\": (1, 0.5),\n",
    "    # Electronic Systems Details\n",
    "    \"lag_se\": (0.73, 0.16),\n",
    "}"
   ]
  },
  {
   "cell_type": "markdown",
   "metadata": {},
   "source": [
    "### Environment\n"
   ]
  },
  {
   "cell_type": "markdown",
   "metadata": {},
   "source": [
    "Define the `Environment` object\n"
   ]
  },
  {
   "cell_type": "code",
   "execution_count": null,
   "metadata": {},
   "outputs": [],
   "source": [
    "# Environment conditions\n",
    "env = Environment(\n",
    "    date=(2019, 8, 10, 21),\n",
    "    latitude=-23.363611,\n",
    "    longitude=-48.011389,\n",
    "    elevation=668,\n",
    ")\n",
    "\n",
    "env.set_atmospheric_model(\n",
    "    type=\"Reanalysis\",\n",
    "    file=\"../../tests/fixtures/acceptance/PJ_Valetudo/valetudo_weather_data_ERA5.nc\",\n",
    "    dictionary=\"ECMWF\",\n",
    ")\n"
   ]
  },
  {
   "cell_type": "markdown",
   "metadata": {},
   "source": [
    "Visualize the `Environment` object\n"
   ]
  },
  {
   "cell_type": "code",
   "execution_count": null,
   "metadata": {},
   "outputs": [],
   "source": [
    "env.info()"
   ]
  },
  {
   "cell_type": "markdown",
   "metadata": {},
   "source": [
    "### Motor\n"
   ]
  },
  {
   "cell_type": "markdown",
   "metadata": {},
   "source": [
    "Define the `SolidMotor` object\n"
   ]
  },
  {
   "cell_type": "code",
   "execution_count": null,
   "metadata": {},
   "outputs": [],
   "source": [
    "keron = SolidMotor(\n",
    "    thrust_source=\"../../data/motors/projeto-jupiter/keron_thrust_curve.csv\",\n",
    "    burn_time=parameters.get(\"burn_time\")[0],\n",
    "    dry_mass=0.001,\n",
    "    dry_inertia=(0, 0, 0),\n",
    "    center_of_dry_mass_position=0.42,\n",
    "    grains_center_of_mass_position=0.42,\n",
    "    grain_number=6,\n",
    "    grain_separation=parameters.get(\"grain_separation\")[0],\n",
    "    grain_density=parameters.get(\"grain_density\")[0],\n",
    "    grain_outer_radius=parameters.get(\"grain_outer_radius\")[0],\n",
    "    grain_initial_inner_radius=parameters.get(\"grain_initial_inner_radius\")[0],\n",
    "    grain_initial_height=parameters.get(\"grain_initial_height\")[0],\n",
    "    nozzle_radius=parameters.get(\"nozzle_radius\")[0],\n",
    "    throat_radius=parameters.get(\"throat_radius\")[0],\n",
    "    interpolation_method=\"linear\",\n",
    "    nozzle_position=0,\n",
    "    coordinate_system_orientation=\"nozzle_to_combustion_chamber\",\n",
    ")"
   ]
  },
  {
   "cell_type": "code",
   "execution_count": null,
   "metadata": {},
   "outputs": [],
   "source": [
    "keron.info()"
   ]
  },
  {
   "cell_type": "markdown",
   "metadata": {},
   "source": [
    "### Rocket\n"
   ]
  },
  {
   "cell_type": "markdown",
   "metadata": {},
   "source": [
    "Create the `Rocket` object\n"
   ]
  },
  {
   "cell_type": "code",
   "execution_count": null,
   "metadata": {},
   "outputs": [],
   "source": [
    "valetudo = Rocket(\n",
    "    radius=parameters.get(\"radius\")[0],\n",
    "    mass=parameters.get(\"rocket_mass\")[0],\n",
    "    inertia=(\n",
    "        parameters.get(\"inertia_I\")[0],\n",
    "        parameters.get(\"inertia_I\")[0],\n",
    "        parameters.get(\"inertia_Z\")[0],\n",
    "    ),\n",
    "    power_off_drag=\"../../data/rockets/valetudo/Cd_PowerOff_RASAero.csv\",\n",
    "    power_on_drag=\"../../data/rockets/valetudo/Cd_PowerOn_RASAero.csv\",\n",
    "    center_of_mass_without_motor=0,\n",
    ")\n",
    "valetudo.set_rail_buttons(0.224, -0.93, 30)\n",
    "valetudo.add_motor(motor=keron, position=parameters.get(\"distance_rocket_nozzle\")[0])"
   ]
  },
  {
   "cell_type": "markdown",
   "metadata": {},
   "source": [
    "Adding aerodynamic surfaces\n"
   ]
  },
  {
   "cell_type": "code",
   "execution_count": null,
   "metadata": {},
   "outputs": [],
   "source": [
    "nose_cone = valetudo.add_nose(\n",
    "    length=parameters.get(\"nose_length\")[0],\n",
    "    kind=\"tangent\",\n",
    "    position=parameters.get(\"nose_distance_to_cm\")[0],\n",
    ")\n",
    "fin_set = valetudo.add_trapezoidal_fins(\n",
    "    3,\n",
    "    span=parameters.get(\"fin_span\")[0],\n",
    "    root_chord=parameters.get(\"fin_root_chord\")[0],\n",
    "    tip_chord=parameters.get(\"fin_tip_chord\")[0],\n",
    "    position=parameters.get(\"fin_distance_to_cm\")[0],\n",
    ")"
   ]
  },
  {
   "cell_type": "markdown",
   "metadata": {},
   "source": [
    "Adding Parachute\n"
   ]
  },
  {
   "cell_type": "code",
   "execution_count": null,
   "metadata": {},
   "outputs": [],
   "source": [
    "drogue = valetudo.add_parachute(\n",
    "    \"Drogue\",\n",
    "    cd_s=parameters.get(\"cd_s_drogue\")[0],\n",
    "    trigger=\"apogee\",\n",
    "    sampling_rate=105,\n",
    "    lag=parameters.get(\"lag_rec\")[0],\n",
    "    noise=(0, 8.3, 0.5),\n",
    ")"
   ]
  },
  {
   "cell_type": "markdown",
   "metadata": {},
   "source": [
    "Modify the Drag Coefficient curve\n"
   ]
  },
  {
   "cell_type": "code",
   "execution_count": null,
   "metadata": {},
   "outputs": [],
   "source": [
    "valetudo.draw()"
   ]
  },
  {
   "cell_type": "code",
   "execution_count": null,
   "metadata": {},
   "outputs": [],
   "source": [
    "valetudo.info()"
   ]
  },
  {
   "cell_type": "markdown",
   "metadata": {},
   "source": [
    "### Flight\n"
   ]
  },
  {
   "cell_type": "code",
   "execution_count": null,
   "metadata": {},
   "outputs": [],
   "source": [
    "test_flight = Flight(\n",
    "    rocket=valetudo,\n",
    "    environment=env,\n",
    "    rail_length=parameters.get(\"rail_length\")[0],\n",
    "    inclination=parameters.get(\"inclination\")[0],\n",
    "    heading=parameters.get(\"heading\")[0],\n",
    ")"
   ]
  },
  {
   "cell_type": "code",
   "execution_count": null,
   "metadata": {},
   "outputs": [],
   "source": [
    "test_flight.info()\n",
    "test_flight.plots.trajectory_3d()"
   ]
  },
  {
   "cell_type": "markdown",
   "metadata": {},
   "source": [
    "## Comparison with the real flight data\n"
   ]
  },
  {
   "cell_type": "code",
   "execution_count": null,
   "metadata": {},
   "outputs": [],
   "source": [
    "# The flight recordings were lost after the launch. Only three useful information were recovered:\n",
    "# - The apogee altitude (AGL): 860 m\n",
    "# - East/West drift: 350 m\n",
    "# - North/South drift: 25 m\n",
    "# - Total drift: 350.9 m"
   ]
  },
  {
   "cell_type": "code",
   "execution_count": null,
   "metadata": {},
   "outputs": [],
   "source": [
    "actual_data = {\n",
    "    \"apogee\": 860,\n",
    "    \"east_west_drift\": 350,\n",
    "    \"north_south_drift\": 25,\n",
    "    \"total_drift\": 350.9,\n",
    "}"
   ]
  },
  {
   "cell_type": "code",
   "execution_count": null,
   "metadata": {},
   "outputs": [],
   "source": [
    "simulated = {\n",
    "    \"apogee\": test_flight.apogee - test_flight.env.elevation,\n",
    "    \"east_west_drift\": test_flight.x(test_flight.t_final),\n",
    "    \"north_south_drift\": test_flight.y(test_flight.t_final),\n",
    "    \"total_drift\": test_flight.drift(test_flight.t_final),\n",
    "}"
   ]
  },
  {
   "cell_type": "code",
   "execution_count": null,
   "metadata": {},
   "outputs": [],
   "source": [
    "apogee_actual = actual_data.get(\"apogee\")\n",
    "apogee_simulated = simulated.get(\"apogee\")\n",
    "apogee_error = abs(apogee_actual - apogee_simulated)\n",
    "apogee_percentage_error = apogee_error / apogee_actual * 100\n",
    "\n",
    "print(\"Apogee (AGL): \")\n",
    "print(f\"Actual: {apogee_actual:.2f} m\")\n",
    "print(f\"Simulated: {apogee_simulated:.2f} m\")\n",
    "print(f\"Error: {apogee_error:.2f} m\")\n",
    "print(f\"Percentage Error: {apogee_percentage_error:.2f}%\")"
   ]
  },
  {
   "cell_type": "code",
   "execution_count": null,
   "metadata": {},
   "outputs": [],
   "source": [
    "drift_actual = actual_data.get(\"total_drift\")\n",
    "drift_simulated = simulated.get(\"total_drift\")\n",
    "drift_error = abs(drift_actual - drift_simulated)\n",
    "drift_percentage_error = drift_error / drift_actual * 100\n",
    "\n",
    "print(\"Drift\")\n",
    "print(f\"Actual: {drift_actual:.2f} m\")\n",
    "print(f\"Simulated: {drift_simulated:.2f} m\")\n",
    "print(f\"Error: {drift_error:.2f} m\")\n",
    "print(f\"Percentage Error: {drift_percentage_error:.2f}%\")\n"
   ]
  }
 ],
 "metadata": {
  "kernelspec": {
   "display_name": ".venv",
   "language": "python",
   "name": "python3"
  },
  "nbdime-conflicts": {
   "local_diff": [
    {
     "key": "language_info",
     "op": "add",
     "value": {
      "codemirror_mode": {
       "name": "ipython",
       "version": 3
      },
      "file_extension": ".py",
      "mimetype": "text/x-python",
      "name": "python",
      "nbconvert_exporter": "python",
      "pygments_lexer": "ipython3",
      "version": "3.11.0"
     }
    }
   ],
   "remote_diff": [
    {
     "key": "language_info",
     "op": "add",
     "value": {
      "codemirror_mode": {
       "name": "ipython",
       "version": 3
      },
      "file_extension": ".py",
      "mimetype": "text/x-python",
      "name": "python",
      "nbconvert_exporter": "python",
      "pygments_lexer": "ipython3",
      "version": "3.10.11"
     }
    }
   ]
  }
 },
 "nbformat": 4,
 "nbformat_minor": 2
}
