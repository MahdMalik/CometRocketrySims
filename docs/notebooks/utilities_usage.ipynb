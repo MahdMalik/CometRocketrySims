{
 "cells": [
  {
   "attachments": {},
   "cell_type": "markdown",
   "metadata": {},
   "source": [
    "# Utilities module usage"
   ]
  },
  {
   "cell_type": "markdown",
   "id": "eb010aeb",
   "metadata": {},
   "source": [
    "<span style=\"color:red\"><b><<<<<<< local</b></span>"
   ]
  },
  {
   "cell_type": "code",
   "execution_count": null,
   "metadata": {},
   "outputs": [],
   "source": [
    "from rocketpy.utilities import *"
   ]
  },
  {
   "cell_type": "markdown",
   "id": "54d2a9ad",
   "metadata": {},
   "source": [
    "<span style=\"color:red\"><b>=======</b></span>"
   ]
  },
  {
   "cell_type": "code",
   "execution_count": null,
   "metadata": {},
   "outputs": [],
   "source": [
    "from rocketpy.utilities import (\n",
    "    calculate_equilibrium_altitude,\n",
    "    compute_cd_s_from_drop_test,\n",
    ")"
   ]
  },
  {
   "cell_type": "markdown",
   "id": "bd2f8c5e",
   "metadata": {},
   "source": [
    "<span style=\"color:red\"><b>>>>>>>> remote</b></span>"
   ]
  },
  {
   "cell_type": "code",
   "execution_count": null,
   "metadata": {},
   "outputs": [],
   "source": [
    "%matplotlib widget"
   ]
  },
  {
   "attachments": {},
   "cell_type": "markdown",
   "metadata": {},
   "source": [
    "### 1. Estimations for your cd_s"
   ]
  },
  {
   "cell_type": "code",
   "execution_count": null,
   "metadata": {},
   "outputs": [],
   "source": [
    "compute_cd_s_from_drop_test(\n",
    "    terminal_velocity=10,  # The desired terminal velocity (m/s)\n",
    "    rocket_mass=20,  # kg\n",
    "    air_density=1.225,\n",
    "    g=9.80665,\n",
    ")"
   ]
  },
  {
   "attachments": {},
   "cell_type": "markdown",
   "metadata": {},
   "source": [
    "### 2. Altitude of Terminal Velocity being reached "
   ]
  },
  {
   "cell_type": "code",
   "execution_count": null,
   "metadata": {},
   "outputs": [],
   "source": [
    "a, b, c = calculate_equilibrium_altitude(\n",
    "    rocket_mass=20,\n",
    "    cd_s=5,\n",
    "    z0=1000,\n",
    "    v0=-20,\n",
    "    env=None,\n",
    "    eps=1e-3,\n",
    "    max_step=0.1,\n",
    "    see_graphs=True,\n",
    "    g=9.80665,\n",
    "    estimated_final_time=10,\n",
    ")\n",
    "\n",
    "altitude_function, velocity_function, final_sol = a, b, c"
   ]
  },
  {
   "cell_type": "code",
   "execution_count": null,
   "metadata": {},
   "outputs": [],
   "source": [
    "final_sol"
   ]
  },
  {
   "cell_type": "code",
   "execution_count": null,
   "metadata": {},
   "outputs": [],
   "source": [
    "print(\n",
    "    f\"The terminal velocity of {final_sol['velocity']:.3} m/s is reached after {final_sol['time']:.3} seconds at altitude of {final_sol['altitude']:.6} meters.\"\n",
    ")"
   ]
  }
 ],
 "metadata": {
  "interpreter": {
   "hash": "bcb6b7db800af51c627c4a410077c05c1d3822ff2a9def2df31b69a98eb45510"
  },
  "nbdime-conflicts": {
   "local_diff": [
    {
     "key": "kernelspec",
     "op": "add",
     "value": {
      "display_name": "Python 3.9.13 64-bit (windows store)",
      "language": "python",
      "name": "python3"
     }
    },
    {
     "key": "language_info",
     "op": "add",
     "value": {
      "codemirror_mode": {
       "name": "ipython",
       "version": 3
      },
      "file_extension": ".py",
      "mimetype": "text/x-python",
      "name": "python",
      "nbconvert_exporter": "python",
      "pygments_lexer": "ipython3",
      "version": "3.10.5"
     }
    }
   ],
   "remote_diff": [
    {
     "key": "kernelspec",
     "op": "add",
     "value": {
      "display_name": ".venv12",
      "language": "python",
      "name": "python3"
     }
    },
    {
     "key": "language_info",
     "op": "add",
     "value": {
      "codemirror_mode": {
       "name": "ipython",
       "version": 3
      },
      "file_extension": ".py",
      "mimetype": "text/x-python",
      "name": "python",
      "nbconvert_exporter": "python",
      "pygments_lexer": "ipython3",
      "version": "3.12.4"
     }
    }
   ]
  }
 },
 "nbformat": 4,
 "nbformat_minor": 2
}
