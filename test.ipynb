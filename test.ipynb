{
 "cells": [
  {
   "cell_type": "code",
   "execution_count": 3,
   "metadata": {},
   "outputs": [
    {
     "name": "stdout",
     "output_type": "stream",
     "text": [
      "chicken butt\n",
      "chicken butt\n",
      "chicken butt\n"
     ]
    }
   ],
   "source": [
    "import concurrent.futures\n",
    "from test1 import TestFunct\n",
    "if __name__ == \"__main__\":\n",
    "            with concurrent.futures.ProcessPoolExecutor(max_workers=3) as executor:\n",
    "                results = [executor.submit(TestFunct, \"chicken butt\") for _ in range(3)] \n",
    "                for result in concurrent.futures.as_completed(results):\n",
    "                    print(result.result())\n",
    "                    # flights.append(result.result())\n",
    "                    # flightForCurrent.append(result.result())   "
   ]
  }
 ],
 "metadata": {
  "kernelspec": {
   "display_name": "Python 3",
   "language": "python",
   "name": "python3"
  },
  "language_info": {
   "codemirror_mode": {
    "name": "ipython",
    "version": 3
   },
   "file_extension": ".py",
   "mimetype": "text/x-python",
   "name": "python",
   "nbconvert_exporter": "python",
   "pygments_lexer": "ipython3",
   "version": "3.12.7"
  }
 },
 "nbformat": 4,
 "nbformat_minor": 2
}
